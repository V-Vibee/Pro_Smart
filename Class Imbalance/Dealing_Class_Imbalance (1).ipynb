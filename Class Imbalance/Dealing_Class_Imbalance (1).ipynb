{
  "nbformat": 4,
  "nbformat_minor": 0,
  "metadata": {
    "colab": {
      "provenance": []
    },
    "kernelspec": {
      "name": "python3",
      "display_name": "Python 3"
    },
    "language_info": {
      "name": "python"
    }
  },
  "cells": [
    {
      "cell_type": "markdown",
      "source": [
        "**Import the Necessary Libraries**"
      ],
      "metadata": {
        "id": "KczHLH1sdyl0"
      }
    },
    {
      "cell_type": "code",
      "source": [
        "pip install imbalanced-learn"
      ],
      "metadata": {
        "id": "HJJ1abSzd2e9"
      },
      "execution_count": null,
      "outputs": []
    },
    {
      "cell_type": "code",
      "execution_count": null,
      "metadata": {
        "id": "RJJFiQZ0dls9"
      },
      "outputs": [],
      "source": [
        "import numpy as np\n",
        "import pandas as pd\n",
        "import matplotlib.pyplot as plt\n",
        "import seaborn as sns\n",
        "\n",
        "from imblearn.under_sampling import RandomUnderSampler, TomekLinks\n",
        "from imblearn.over_sampling import RandomOverSampler, SMOTE, ADASYN\n",
        "from imblearn.combine import SMOTETomek"
      ]
    },
    {
      "cell_type": "code",
      "source": [
        "from sklearn.datasets import load_breast_cancer\n",
        "\n"
      ],
      "metadata": {
        "id": "622JgjD9eRD8"
      },
      "execution_count": null,
      "outputs": []
    },
    {
      "cell_type": "markdown",
      "source": [
        "**Load Dataset (Breast Cancer)**"
      ],
      "metadata": {
        "id": "WATXnl-dfL_D"
      }
    },
    {
      "cell_type": "code",
      "source": [
        "data= load_breast_cancer()\n",
        "df= pd.DataFrame(data.data, columns=data.feature_names)\n",
        "df['target']= data.target"
      ],
      "metadata": {
        "id": "ziPF_bLkfKVV"
      },
      "execution_count": null,
      "outputs": []
    },
    {
      "cell_type": "code",
      "source": [
        "df.head()"
      ],
      "metadata": {
        "id": "dRndbvwCfRds"
      },
      "execution_count": null,
      "outputs": []
    },
    {
      "cell_type": "markdown",
      "source": [
        "**Mapping Numerical Label to corresponding categories**"
      ],
      "metadata": {
        "id": "27r_mhJ6gIo3"
      }
    },
    {
      "cell_type": "code",
      "source": [
        "df['target']= df['target'].map({0:'M', 1:'B'})"
      ],
      "metadata": {
        "id": "JfdfBKtdf_4c"
      },
      "execution_count": null,
      "outputs": []
    },
    {
      "cell_type": "code",
      "source": [
        "df.head()"
      ],
      "metadata": {
        "id": "8aeMJK1sgRdb"
      },
      "execution_count": null,
      "outputs": []
    },
    {
      "cell_type": "code",
      "source": [
        "df['target'].value_counts()"
      ],
      "metadata": {
        "id": "sUEvt2Xzghx1"
      },
      "execution_count": null,
      "outputs": []
    },
    {
      "cell_type": "markdown",
      "source": [
        "**Visualization**"
      ],
      "metadata": {
        "id": "Cd-tlvBbipM4"
      }
    },
    {
      "cell_type": "code",
      "source": [
        "fig, axes= plt.subplots(nrows=1, ncols=2, figsize=(10,4))\n",
        "\n",
        "\n",
        "# Piechart\n",
        "axes[0].pie(df['target'].value_counts(),labels= df['target'].value_counts().index, autopct='%1.1f%%', startangle=45)\n",
        "axes[0].set_title('Pie-chart of Before Resampling')\n",
        "\n",
        "\n",
        "# Countplot\n",
        "\n",
        "sns.countplot(x='target', data= df, ax= axes[1])\n",
        "axes[1].set_title('Countplot of Before Resampling')\n",
        "\n",
        "# Adjust Layout\n",
        "plt.tight_layout()\n",
        "plt.show()"
      ],
      "metadata": {
        "id": "aCyZQXLtgyWv"
      },
      "execution_count": null,
      "outputs": []
    },
    {
      "cell_type": "code",
      "source": [
        "# Split dataset into Features(X) and target(y)\n",
        "\n",
        "X= df.drop('target', axis=1)\n",
        "y= df['target']"
      ],
      "metadata": {
        "id": "pB4-gbywir4c"
      },
      "execution_count": null,
      "outputs": []
    },
    {
      "cell_type": "markdown",
      "source": [
        "**Train Test Split**"
      ],
      "metadata": {
        "id": "BuZ4D_vAl0JA"
      }
    },
    {
      "cell_type": "code",
      "source": [
        "from sklearn.model_selection import train_test_split\n",
        "X_train, X_test, y_train, y_test= train_test_split(X,y, random_state=11, test_size=0.2)"
      ],
      "metadata": {
        "id": "jP68R_l6lxg0"
      },
      "execution_count": null,
      "outputs": []
    },
    {
      "cell_type": "markdown",
      "source": [
        "**Creating a Function to plot distribution**"
      ],
      "metadata": {
        "id": "yj09MWzLmZmj"
      }
    },
    {
      "cell_type": "code",
      "source": [
        "def plot_resampling_results(y_resampled, title):\n",
        "  plt.figure(figsize=(4,4))\n",
        "  pd.Series(y_resampled).value_counts().plot.pie(autopct='%1.1f%%', startangle=90)\n",
        "  plt.title(title)\n",
        "  plt.show()"
      ],
      "metadata": {
        "id": "lTtjMMgml2Qr"
      },
      "execution_count": null,
      "outputs": []
    },
    {
      "cell_type": "code",
      "source": [
        "# Random Undersampling\n",
        "\n",
        "rus= RandomUnderSampler(random_state= 101, sampling_strategy=0.7) # Sampling strategy is ratio of Minority/ Majority observations\n",
        "X_rus, y_rus= rus.fit_resample(X_train, y_train)\n",
        "plot_resampling_results(y_rus, 'Class Distribution after Random Undersampling')\n",
        "\n"
      ],
      "metadata": {
        "id": "_7RGkq41mj2b"
      },
      "execution_count": null,
      "outputs": []
    },
    {
      "cell_type": "markdown",
      "source": [
        "**Before Undersampling**"
      ],
      "metadata": {
        "id": "QhK-ReHHuSIc"
      }
    },
    {
      "cell_type": "code",
      "source": [
        "y_train.value_counts()"
      ],
      "metadata": {
        "id": "MH_UXlwcuKZ8"
      },
      "execution_count": null,
      "outputs": []
    },
    {
      "cell_type": "markdown",
      "source": [
        "**After Undersampling**"
      ],
      "metadata": {
        "id": "FIlsh2MAulCY"
      }
    },
    {
      "cell_type": "code",
      "source": [
        "y_rus.value_counts()"
      ],
      "metadata": {
        "id": "SIa9mYe3uUc0"
      },
      "execution_count": null,
      "outputs": []
    },
    {
      "cell_type": "code",
      "source": [
        "print('No of records removed:', y_train.shape[0]- y_rus.shape[0])"
      ],
      "metadata": {
        "id": "Hl45pof-uwuS"
      },
      "execution_count": null,
      "outputs": []
    },
    {
      "cell_type": "code",
      "source": [
        "# Random Oversampling\n",
        "\n",
        "ros= RandomOverSampler(random_state= 101)\n",
        "X_ros, y_ros= ros.fit_resample(X_train, y_train)\n",
        "plot_resampling_results(y_ros, 'Class Distribution after Random Oversampling')"
      ],
      "metadata": {
        "id": "jpZ_GLahv9sR"
      },
      "execution_count": null,
      "outputs": []
    },
    {
      "cell_type": "code",
      "source": [
        "y_train.value_counts()"
      ],
      "metadata": {
        "id": "fbzGIIVawPzS"
      },
      "execution_count": null,
      "outputs": []
    },
    {
      "cell_type": "code",
      "source": [
        "y_ros.value_counts()"
      ],
      "metadata": {
        "id": "_SZHaGhxwY-p"
      },
      "execution_count": null,
      "outputs": []
    },
    {
      "cell_type": "code",
      "source": [
        "print('No of records added:', y_ros.shape[0]- y_train.shape[0])"
      ],
      "metadata": {
        "id": "H9sqYsUZwbuW"
      },
      "execution_count": null,
      "outputs": []
    },
    {
      "cell_type": "code",
      "source": [
        "# Tomek Underssampling\n",
        "\n",
        "tomek= TomekLinks()\n",
        "X_tl, y_tl = tomek.fit_resample(X_train, y_train)\n",
        "plot_resampling_results(y_tl, 'Class Distribution after Tomek')"
      ],
      "metadata": {
        "id": "N1P22tLjwhiW"
      },
      "execution_count": null,
      "outputs": []
    },
    {
      "cell_type": "code",
      "source": [
        "y_train.value_counts()"
      ],
      "metadata": {
        "colab": {
          "base_uri": "https://localhost:8080/"
        },
        "id": "UpcpO0sqyCQm",
        "outputId": "8e7c525e-ec14-4583-bc5e-a2e890d9f638"
      },
      "execution_count": 69,
      "outputs": [
        {
          "output_type": "execute_result",
          "data": {
            "text/plain": [
              "target\n",
              "B    281\n",
              "M    174\n",
              "Name: count, dtype: int64"
            ]
          },
          "metadata": {},
          "execution_count": 69
        }
      ]
    },
    {
      "cell_type": "code",
      "source": [
        "y_tl.value_counts()"
      ],
      "metadata": {
        "colab": {
          "base_uri": "https://localhost:8080/"
        },
        "id": "V3K87g6Uy9Gy",
        "outputId": "d92597df-44ae-402f-9430-466392c8caf5"
      },
      "execution_count": 70,
      "outputs": [
        {
          "output_type": "execute_result",
          "data": {
            "text/plain": [
              "target\n",
              "B    271\n",
              "M    174\n",
              "Name: count, dtype: int64"
            ]
          },
          "metadata": {},
          "execution_count": 70
        }
      ]
    },
    {
      "cell_type": "code",
      "source": [
        "print('No of records discarded:', y_train.shape[0]- y_tl.shape[0])"
      ],
      "metadata": {
        "colab": {
          "base_uri": "https://localhost:8080/"
        },
        "id": "VCweDHMw8CRq",
        "outputId": "53160b97-f8a7-4922-fe16-ca6e0a53e9d2"
      },
      "execution_count": 71,
      "outputs": [
        {
          "output_type": "stream",
          "name": "stdout",
          "text": [
            "No of records discarded: 10\n"
          ]
        }
      ]
    },
    {
      "cell_type": "markdown",
      "source": [
        "**SMOTE**"
      ],
      "metadata": {
        "id": "qGi0lc7X8dTL"
      }
    },
    {
      "cell_type": "code",
      "source": [
        "smote= SMOTE(random_state=123)\n",
        "X_smote, y_smote= smote.fit_resample(X_train, y_train)\n",
        "plot_resampling_results(y_smote,' Class Distribution after SMOTE')"
      ],
      "metadata": {
        "colab": {
          "base_uri": "https://localhost:8080/",
          "height": 367
        },
        "id": "a_9VDr698TcK",
        "outputId": "7c341e05-c828-4c50-e927-5329f5233a01"
      },
      "execution_count": 73,
      "outputs": [
        {
          "output_type": "display_data",
          "data": {
            "text/plain": [
              "<Figure size 400x400 with 1 Axes>"
            ],
            "image/png": "[encoded data removed]"
          },
          "metadata": {}
        }
      ]
    },
    {
      "cell_type": "code",
      "source": [
        "y_train.value_counts()"
      ],
      "metadata": {
        "colab": {
          "base_uri": "https://localhost:8080/"
        },
        "id": "DjP3BnmF8faR",
        "outputId": "cd3e3f59-6746-4776-a634-5ee555e8b98d"
      },
      "execution_count": 74,
      "outputs": [
        {
          "output_type": "execute_result",
          "data": {
            "text/plain": [
              "target\n",
              "B    281\n",
              "M    174\n",
              "Name: count, dtype: int64"
            ]
          },
          "metadata": {},
          "execution_count": 74
        }
      ]
    },
    {
      "cell_type": "code",
      "source": [
        "y_smote.value_counts()"
      ],
      "metadata": {
        "colab": {
          "base_uri": "https://localhost:8080/"
        },
        "id": "a3IqAp6-9MD6",
        "outputId": "eaafd6a5-3dde-477d-89a6-c772cdb7d20d"
      },
      "execution_count": 75,
      "outputs": [
        {
          "output_type": "execute_result",
          "data": {
            "text/plain": [
              "target\n",
              "M    281\n",
              "B    281\n",
              "Name: count, dtype: int64"
            ]
          },
          "metadata": {},
          "execution_count": 75
        }
      ]
    },
    {
      "cell_type": "code",
      "source": [
        "print('No of records added:', y_smote.shape[0]- y_train.shape[0])"
      ],
      "metadata": {
        "colab": {
          "base_uri": "https://localhost:8080/"
        },
        "id": "WjsK8vYk9P4D",
        "outputId": "fbe6aa77-3a61-4841-d989-6425dc861b80"
      },
      "execution_count": 76,
      "outputs": [
        {
          "output_type": "stream",
          "name": "stdout",
          "text": [
            "No of records added: 107\n"
          ]
        }
      ]
    },
    {
      "cell_type": "markdown",
      "source": [
        "**Combination of SMOTE & TOMEK**"
      ],
      "metadata": {
        "id": "C93IcKta9eKQ"
      }
    },
    {
      "cell_type": "code",
      "source": [
        "smote_tomek = SMOTETomek(random_state=20)\n",
        "X_st, y_st= smote_tomek.fit_resample(X_train, y_train)\n",
        "plot_resampling_results(y_st,' Class Distribution after SMOTE & TOMEK')"
      ],
      "metadata": {
        "colab": {
          "base_uri": "https://localhost:8080/",
          "height": 367
        },
        "id": "RkjUQFWp9bRq",
        "outputId": "54384d83-ae07-45ea-d76a-b9217fdaca16"
      },
      "execution_count": 78,
      "outputs": [
        {
          "output_type": "display_data",
          "data": {
            "text/plain": [
              "<Figure size 400x400 with 1 Axes>"
            ],
            "image/png": "[encoded data removed]"
          },
          "metadata": {}
        }
      ]
    },
    {
      "cell_type": "code",
      "source": [
        "y_train.value_counts()"
      ],
      "metadata": {
        "colab": {
          "base_uri": "https://localhost:8080/"
        },
        "id": "R3jZHphB9hZ0",
        "outputId": "ecc43117-9a67-4813-b419-d697dd5997a8"
      },
      "execution_count": 79,
      "outputs": [
        {
          "output_type": "execute_result",
          "data": {
            "text/plain": [
              "target\n",
              "B    281\n",
              "M    174\n",
              "Name: count, dtype: int64"
            ]
          },
          "metadata": {},
          "execution_count": 79
        }
      ]
    },
    {
      "cell_type": "code",
      "source": [
        "y_st.value_counts()"
      ],
      "metadata": {
        "colab": {
          "base_uri": "https://localhost:8080/"
        },
        "id": "MwFUNftdAnMZ",
        "outputId": "9f99f9e1-046e-4dc5-9ee5-0778a1cccfb9"
      },
      "execution_count": 80,
      "outputs": [
        {
          "output_type": "execute_result",
          "data": {
            "text/plain": [
              "target\n",
              "M    272\n",
              "B    272\n",
              "Name: count, dtype: int64"
            ]
          },
          "metadata": {},
          "execution_count": 80
        }
      ]
    },
    {
      "cell_type": "code",
      "source": [
        "print('No of records added:', y_st.shape[0]- y_train.shape[0])"
      ],
      "metadata": {
        "colab": {
          "base_uri": "https://localhost:8080/"
        },
        "id": "tBEK72QLAq3Z",
        "outputId": "57914d6d-429c-47c5-938c-543064f24fa9"
      },
      "execution_count": 81,
      "outputs": [
        {
          "output_type": "stream",
          "name": "stdout",
          "text": [
            "No of records added: 89\n"
          ]
        }
      ]
    },
    {
      "cell_type": "markdown",
      "source": [
        "**ADASYN**"
      ],
      "metadata": {
        "id": "uNQuJYgfA0HX"
      }
    },
    {
      "cell_type": "code",
      "source": [
        "adasyn= ADASYN(random_state=211)\n",
        "X_adasyn, y_adasyn= adasyn.fit_resample(X_train, y_train)\n",
        "plot_resampling_results(y_adasyn,' Class Distribution after ADASYN')"
      ],
      "metadata": {
        "colab": {
          "base_uri": "https://localhost:8080/",
          "height": 367
        },
        "id": "GRz0pe9PAw4R",
        "outputId": "e9bf1ce3-b1cc-406f-991b-e81aaea42ed1"
      },
      "execution_count": 82,
      "outputs": [
        {
          "output_type": "display_data",
          "data": {
            "text/plain": [
              "<Figure size 400x400 with 1 Axes>"
            ],
            "image/png": "[encoded data removed]"
          },
          "metadata": {}
        }
      ]
    },
    {
      "cell_type": "code",
      "source": [
        "y_train.value_counts()"
      ],
      "metadata": {
        "colab": {
          "base_uri": "https://localhost:8080/"
        },
        "id": "xQSKGCZiA1wR",
        "outputId": "b2385567-ba32-49b0-e71f-007e313c710e"
      },
      "execution_count": 84,
      "outputs": [
        {
          "output_type": "execute_result",
          "data": {
            "text/plain": [
              "target\n",
              "B    281\n",
              "M    174\n",
              "Name: count, dtype: int64"
            ]
          },
          "metadata": {},
          "execution_count": 84
        }
      ]
    },
    {
      "cell_type": "code",
      "source": [
        "y_adasyn.value_counts()"
      ],
      "metadata": {
        "colab": {
          "base_uri": "https://localhost:8080/"
        },
        "id": "BCk-gYBKBP3r",
        "outputId": "94404876-c412-46aa-fa64-ef03074590fc"
      },
      "execution_count": 86,
      "outputs": [
        {
          "output_type": "execute_result",
          "data": {
            "text/plain": [
              "target\n",
              "M    283\n",
              "B    281\n",
              "Name: count, dtype: int64"
            ]
          },
          "metadata": {},
          "execution_count": 86
        }
      ]
    },
    {
      "cell_type": "code",
      "source": [
        "print('No of records added:', y_adasyn.shape[0]- y_train.shape[0])"
      ],
      "metadata": {
        "colab": {
          "base_uri": "https://localhost:8080/"
        },
        "id": "uJHSK7hRBUBZ",
        "outputId": "b58240da-04fb-4c60-8397-fbb443c1a813"
      },
      "execution_count": 87,
      "outputs": [
        {
          "output_type": "stream",
          "name": "stdout",
          "text": [
            "No of records added: 109\n"
          ]
        }
      ]
    },
    {
      "cell_type": "code",
      "source": [],
      "metadata": {
        "id": "5bf-jF33Bh0h"
      },
      "execution_count": null,
      "outputs": []
    }
  ]
}